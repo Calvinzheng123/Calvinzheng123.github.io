{
 "cells": [
  {
   "cell_type": "code",
   "execution_count": 2,
   "metadata": {},
   "outputs": [
    {
     "name": "stderr",
     "output_type": "stream",
     "text": [
      "/var/folders/8_/_mkv7dtj7hvfvhvj31qsy35h0000gn/T/ipykernel_27693/1104216452.py:11: DtypeWarning: Columns (25) have mixed types. Specify dtype option on import or set low_memory=False.\n",
      "  df = pd.read_csv(\"/Users/calvi/Downloads/Airbnb_Open_Data.csv\")\n"
     ]
    }
   ],
   "source": [
    "import re\n",
    "import numpy as np\n",
    "import pandas as pd\n",
    "\n",
    "from sklearn.model_selection import train_test_split\n",
    "from sklearn.preprocessing import StandardScaler\n",
    "from sklearn.linear_model import LinearRegression, Ridge\n",
    "from sklearn.ensemble import GradientBoostingRegressor\n",
    "from sklearn.metrics import root_mean_squared_error, mean_absolute_error, r2_score\n",
    "\n",
    "df = pd.read_csv(\"/Users/calvi/Downloads/Airbnb_Open_Data.csv\")"
   ]
  },
  {
   "cell_type": "code",
   "execution_count": 3,
   "metadata": {},
   "outputs": [],
   "source": [
    "# Dropping all categorical / text columns since they arent really important and dont need to be encoded\n",
    "drop_cols = [\n",
    "    \"id\", \"NAME\", \"host id\", \"host name\", \"neighbourhood group\", \"neighbourhood\",\n",
    "    \"country\", \"country code\", \"instant_bookable\", \"cancellation_policy\",\n",
    "    \"room type\", \"host_identity_verified\", \"house_rules\", \"license\",\n",
    "    \"service fee\", \"last review\"\n",
    "]\n",
    "df = df.drop(columns=[c for c in drop_cols if c in df.columns], errors=\"ignore\")\n"
   ]
  },
  {
   "cell_type": "code",
   "execution_count": 4,
   "metadata": {},
   "outputs": [],
   "source": [
    "# Clean price column so no dollar sign\n",
    "def clean_money(x):\n",
    "    if pd.isna(x): return np.nan\n",
    "    s = re.sub(r\"[^0-9.]\", \"\", str(x))\n",
    "    return float(s) if s else np.nan\n",
    "\n",
    "df[\"price\"] = df[\"price\"].apply(clean_money)\n",
    "df = df[(df[\"price\"].notna()) & (df[\"price\"] > 0)].copy()\n",
    "\n",
    "# Trim outliers (1st–99th percentile)\n",
    "p1, p99 = df[\"price\"].quantile([0.01, 0.99])\n",
    "df = df[(df[\"price\"] >= p1) & (df[\"price\"] <= p99)].copy()\n",
    "\n",
    "# Log transform price so its not right skewed by a few high price listings\n",
    "df[\"log_price\"] = np.log1p(df[\"price\"])\n",
    "\n",
    "# Convert numeric columns\n",
    "num_cols = [\n",
    "    \"Construction year\", \"minimum nights\", \"number of reviews\", \"reviews per month\",\n",
    "    \"review rate number\", \"calculated host listings count\", \"availability 365\",\n",
    "    \"lat\", \"long\"\n",
    "]\n",
    "for c in num_cols:\n",
    "    if c in df.columns:\n",
    "        df[c] = pd.to_numeric(df[c], errors=\"coerce\")\n",
    "\n",
    "# making some features I thought would be useful\n",
    "df[\"review_ratio\"] = df[\"reviews per month\"] / (df[\"calculated host listings count\"] + 1)\n",
    "df[\"age_factor\"] = 2025 - df[\"Construction year\"]\n",
    "\n",
    "# Clean infs / NaNs\n",
    "df = df.replace([np.inf, -np.inf], np.nan)\n",
    "df = df.dropna()"
   ]
  },
  {
   "cell_type": "code",
   "execution_count": 5,
   "metadata": {},
   "outputs": [],
   "source": [
    "features = [\n",
    "    \"lat\", \"long\",\n",
    "    \"minimum nights\", \"number of reviews\", \"reviews per month\",\n",
    "    \"review rate number\", \"calculated host listings count\",\n",
    "    \"availability 365\", \"Construction year\",\n",
    "    \"review_ratio\", \"age_factor\"\n",
    "]\n",
    "features = [f for f in features if f in df.columns]\n",
    "\n",
    "X = df[features]\n",
    "y = df[\"log_price\"]\n",
    "\n",
    "X_train, X_test, y_train, y_test = train_test_split(X, y, test_size=0.2, random_state=42)\n",
    "\n",
    "scaler = StandardScaler()\n",
    "X_train_scaled = scaler.fit_transform(X_train)\n",
    "X_test_scaled = scaler.transform(X_test)\n"
   ]
  },
  {
   "cell_type": "code",
   "execution_count": 6,
   "metadata": {},
   "outputs": [
    {
     "name": "stdout",
     "output_type": "stream",
     "text": [
      "{'Linear_RMSE': 345.96, 'Linear_MAE': 294.51, 'Linear_R2': -0.0}\n"
     ]
    }
   ],
   "source": [
    "lin = LinearRegression().fit(X_train_scaled, y_train)\n",
    "pred1 = lin.predict(X_test_scaled)\n",
    "\n",
    "rmse1 = root_mean_squared_error(np.expm1(y_test), np.expm1(pred1))\n",
    "mae1  = mean_absolute_error(np.expm1(y_test), np.expm1(pred1))\n",
    "r2_1  = r2_score(y_test, pred1)\n",
    "\n",
    "print({\"Linear_RMSE\": round(rmse1,2), \"Linear_MAE\": round(mae1,2), \"Linear_R2\": round(r2_1,3)})"
   ]
  },
  {
   "cell_type": "code",
   "execution_count": 7,
   "metadata": {},
   "outputs": [
    {
     "name": "stdout",
     "output_type": "stream",
     "text": [
      "{'Ridge_RMSE': 345.96, 'Ridge_MAE': 294.51, 'Ridge_R2': -0.0}\n"
     ]
    }
   ],
   "source": [
    "ridge = Ridge(alpha=1.0, random_state=42).fit(X_train_scaled, y_train)\n",
    "pred2 = ridge.predict(X_test_scaled)\n",
    "\n",
    "rmse2 = root_mean_squared_error(np.expm1(y_test), np.expm1(pred2))\n",
    "mae2  = mean_absolute_error(np.expm1(y_test), np.expm1(pred2))\n",
    "r2_2  = r2_score(y_test, pred2)\n",
    "\n",
    "print({\"Ridge_RMSE\": round(rmse2,2), \"Ridge_MAE\": round(mae2,2), \"Ridge_R2\": round(r2_2,3)})"
   ]
  },
  {
   "cell_type": "code",
   "execution_count": 8,
   "metadata": {},
   "outputs": [
    {
     "name": "stdout",
     "output_type": "stream",
     "text": [
      "{'GB_RMSE': 344.67, 'GB_MAE': 293.16, 'GB_R2': 0.007}\n"
     ]
    }
   ],
   "source": [
    "gb = GradientBoostingRegressor(\n",
    "    n_estimators=400, learning_rate=0.05, max_depth=3, random_state=42\n",
    ").fit(X_train, y_train)  \n",
    "\n",
    "pred3 = gb.predict(X_test)\n",
    "\n",
    "rmse3 = root_mean_squared_error(np.expm1(y_test), np.expm1(pred3))\n",
    "mae3  = mean_absolute_error(np.expm1(y_test), np.expm1(pred3))\n",
    "r2_3  = r2_score(y_test, pred3)\n",
    "\n",
    "print({\"GB_RMSE\": round(rmse3,2), \"GB_MAE\": round(mae3,2), \"GB_R2\": round(r2_3,3)})"
   ]
  },
  {
   "cell_type": "code",
   "execution_count": 9,
   "metadata": {},
   "outputs": [
    {
     "data": {
      "text/html": [
       "<div>\n",
       "<style scoped>\n",
       "    .dataframe tbody tr th:only-of-type {\n",
       "        vertical-align: middle;\n",
       "    }\n",
       "\n",
       "    .dataframe tbody tr th {\n",
       "        vertical-align: top;\n",
       "    }\n",
       "\n",
       "    .dataframe thead th {\n",
       "        text-align: right;\n",
       "    }\n",
       "</style>\n",
       "<table border=\"1\" class=\"dataframe\">\n",
       "  <thead>\n",
       "    <tr style=\"text-align: right;\">\n",
       "      <th></th>\n",
       "      <th>Model</th>\n",
       "      <th>RMSE</th>\n",
       "      <th>MAE</th>\n",
       "      <th>R2</th>\n",
       "    </tr>\n",
       "  </thead>\n",
       "  <tbody>\n",
       "    <tr>\n",
       "      <th>0</th>\n",
       "      <td>Linear</td>\n",
       "      <td>345.96</td>\n",
       "      <td>294.51</td>\n",
       "      <td>-0.000</td>\n",
       "    </tr>\n",
       "    <tr>\n",
       "      <th>1</th>\n",
       "      <td>Ridge</td>\n",
       "      <td>345.96</td>\n",
       "      <td>294.51</td>\n",
       "      <td>-0.000</td>\n",
       "    </tr>\n",
       "    <tr>\n",
       "      <th>2</th>\n",
       "      <td>GB</td>\n",
       "      <td>344.67</td>\n",
       "      <td>293.16</td>\n",
       "      <td>0.007</td>\n",
       "    </tr>\n",
       "  </tbody>\n",
       "</table>\n",
       "</div>"
      ],
      "text/plain": [
       "    Model    RMSE     MAE     R2\n",
       "0  Linear  345.96  294.51 -0.000\n",
       "1   Ridge  345.96  294.51 -0.000\n",
       "2      GB  344.67  293.16  0.007"
      ]
     },
     "execution_count": 9,
     "metadata": {},
     "output_type": "execute_result"
    }
   ],
   "source": [
    "results = pd.DataFrame([\n",
    "    {\"Model\": \"Linear\", \"RMSE\": round(rmse1,2), \"MAE\": round(mae1,2), \"R2\": round(r2_1,3)},\n",
    "    {\"Model\": \"Ridge\",  \"RMSE\": round(rmse2,2), \"MAE\": round(mae2,2), \"R2\": round(r2_2,3)},\n",
    "    {\"Model\": \"GB\",     \"RMSE\": round(rmse3,2), \"MAE\": round(mae3,2), \"R2\": round(r2_3,3)},\n",
    "])\n",
    "results\n"
   ]
  },
  {
   "cell_type": "code",
   "execution_count": null,
   "metadata": {},
   "outputs": [],
   "source": []
  }
 ],
 "metadata": {
  "kernelspec": {
   "display_name": "base",
   "language": "python",
   "name": "python3"
  },
  "language_info": {
   "codemirror_mode": {
    "name": "ipython",
    "version": 3
   },
   "file_extension": ".py",
   "mimetype": "text/x-python",
   "name": "python",
   "nbconvert_exporter": "python",
   "pygments_lexer": "ipython3",
   "version": "3.13.5"
  }
 },
 "nbformat": 4,
 "nbformat_minor": 2
}
